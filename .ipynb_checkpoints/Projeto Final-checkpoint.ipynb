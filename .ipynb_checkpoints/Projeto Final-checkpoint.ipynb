{
 "cells": [
  {
   "attachments": {
    "c747044d-021e-41c8-a415-0c4e6d12b6e0.png": {
     "image/png": "[encoded data removed]"
    }
   },
   "cell_type": "markdown",
   "id": "904ef340-9c01-4fc4-a4e5-084c4e70c302",
   "metadata": {},
   "source": [
    "# Projeto Final de Análise de Dados ![image.png](attachment:c747044d-021e-41c8-a415-0c4e6d12b6e0.png)"
   ]
  },
  {
   "attachments": {
    "4fd79264-6d03-4685-ac61-682766132a09.png": {
     "image/png": "[encoded data removed]"
    }
   },
   "cell_type": "markdown",
   "id": "3c574da0-7433-4df2-a25b-6b54cf249943",
   "metadata": {},
   "source": [
    "### ![image.png](attachment:4fd79264-6d03-4685-ac61-682766132a09.png) Este notebook foi criado para realização do Projeto Final do Curso de Análise de Dados (IEFP-Portugal) e usará uma base de dados de uma pequena oficina mecânica da grande região de Lisboa - Portugal.\n",
    "\n",
    "**• O CLIENTE:** Pretende tomar conhecimento do seu negócio para assim tornar a gestão mais assertiva e seus serviços mais rápidos e lucrativos, bem como prever comportamentos.\n",
    "\n",
    "**• A BASE DE DADOS:** Este projeto terá como base um arquivo CSV com dados referentes aos anos de 2022 e 2023. A ofinina em questão começou a usar um software para **gestão das entradas, saídas, orçamentos, horas de mão de obra** e entre outras situações para controlar melhor seus objetivos de negócio.\n",
    "\n",
    "**•\tO PROJETO:** O objetivo principal é **analisar os dados usando os conhecimentos, métodos e ferramentas ensinadas no decorrer do curso**. Além disso, é primordial exercer o pensamento análitico e crítico, ser observador e minuncioso, pois o projeto consiste em suma em uma **Análise Exploratória de Dados**. "
   ]
  },
  {
   "cell_type": "markdown",
   "id": "6a3ba2fd-9137-41e7-bc66-ace2a97d143f",
   "metadata": {},
   "source": [
    "### • Conteúdo do ficheiro\n",
    "#### O primeiro passo para esta análise exploratória consiste em carregar o ficheiro e observar algumas linhas para ter uma noção do seu conteúdo. Para tal, foi utilizada a biblioteca Pandas do Python e verificou-se que o arquivo possui 26 colunas. À primeira vista, percebe-se que a coluna 'id' é irrelevante para a análise do negócio e que o campo 'estado' tem todos os valores iguais, sendo desnecessário para a exploração dos dados."
   ]
  },
  {
   "cell_type": "code",
   "execution_count": 1,
   "id": "5d096b33-1184-452c-ba69-9293892e0e4e",
   "metadata": {},
   "outputs": [
    {
     "data": {
      "text/html": [
       "<div>\n",
       "<style scoped>\n",
       "    .dataframe tbody tr th:only-of-type {\n",
       "        vertical-align: middle;\n",
       "    }\n",
       "\n",
       "    .dataframe tbody tr th {\n",
       "        vertical-align: top;\n",
       "    }\n",
       "\n",
       "    .dataframe thead th {\n",
       "        text-align: right;\n",
       "    }\n",
       "</style>\n",
       "<table border=\"1\" class=\"dataframe\">\n",
       "  <thead>\n",
       "    <tr style=\"text-align: right;\">\n",
       "      <th></th>\n",
       "      <th>id</th>\n",
       "      <th>data_criacao</th>\n",
       "      <th>marca</th>\n",
       "      <th>modelo</th>\n",
       "      <th>kms</th>\n",
       "      <th>data_peritagem</th>\n",
       "      <th>oficina</th>\n",
       "      <th>estado</th>\n",
       "      <th>autoriz_repar</th>\n",
       "      <th>orc_pecas</th>\n",
       "      <th>...</th>\n",
       "      <th>ponto_situacao</th>\n",
       "      <th>agendamento_repar</th>\n",
       "      <th>tempo_repar</th>\n",
       "      <th>data_real_inicio_repar</th>\n",
       "      <th>data_real_fim_repar</th>\n",
       "      <th>dias_atraso_sem_fds</th>\n",
       "      <th>mao_obra_chapa</th>\n",
       "      <th>mao_obra_pintura</th>\n",
       "      <th>mo_horas_orc_pintura</th>\n",
       "      <th>mo_horas_orc_chapa</th>\n",
       "    </tr>\n",
       "  </thead>\n",
       "  <tbody>\n",
       "    <tr>\n",
       "      <th>0</th>\n",
       "      <td>3647</td>\n",
       "      <td>02/10/2023</td>\n",
       "      <td>Citroen</td>\n",
       "      <td>C4</td>\n",
       "      <td>57434</td>\n",
       "      <td>04/10/2023</td>\n",
       "      <td>Carnaxide</td>\n",
       "      <td>Definitiva</td>\n",
       "      <td>09/10/2023</td>\n",
       "      <td>0</td>\n",
       "      <td>...</td>\n",
       "      <td>Concluído</td>\n",
       "      <td>26/10/2023</td>\n",
       "      <td>3</td>\n",
       "      <td>26/10/2023</td>\n",
       "      <td>31/10/2023</td>\n",
       "      <td>1</td>\n",
       "      <td>2,5</td>\n",
       "      <td>2</td>\n",
       "      <td>0</td>\n",
       "      <td>0</td>\n",
       "    </tr>\n",
       "    <tr>\n",
       "      <th>1</th>\n",
       "      <td>3536</td>\n",
       "      <td>18/09/2023</td>\n",
       "      <td>Peugeot</td>\n",
       "      <td>308</td>\n",
       "      <td>0</td>\n",
       "      <td>19/09/2023</td>\n",
       "      <td>Carnaxide</td>\n",
       "      <td>Definitiva</td>\n",
       "      <td>20/09/2023</td>\n",
       "      <td>0</td>\n",
       "      <td>...</td>\n",
       "      <td>Concluído</td>\n",
       "      <td>07/11/2023</td>\n",
       "      <td>4</td>\n",
       "      <td>07/11/2023</td>\n",
       "      <td>10/11/2023</td>\n",
       "      <td>0</td>\n",
       "      <td>4</td>\n",
       "      <td>5</td>\n",
       "      <td>0</td>\n",
       "      <td>0</td>\n",
       "    </tr>\n",
       "    <tr>\n",
       "      <th>2</th>\n",
       "      <td>635</td>\n",
       "      <td>22/04/2022</td>\n",
       "      <td>Fiat</td>\n",
       "      <td>Tipo</td>\n",
       "      <td>65844</td>\n",
       "      <td>31/03/2022</td>\n",
       "      <td>Carnaxide</td>\n",
       "      <td>Definitiva</td>\n",
       "      <td>22/04/2022</td>\n",
       "      <td>0</td>\n",
       "      <td>...</td>\n",
       "      <td>Concluído</td>\n",
       "      <td>27/04/2022</td>\n",
       "      <td>2</td>\n",
       "      <td>27/04/2022</td>\n",
       "      <td>29/04/2022</td>\n",
       "      <td>1</td>\n",
       "      <td>0</td>\n",
       "      <td>2</td>\n",
       "      <td>0</td>\n",
       "      <td>0</td>\n",
       "    </tr>\n",
       "    <tr>\n",
       "      <th>3</th>\n",
       "      <td>3766</td>\n",
       "      <td>17/10/2023</td>\n",
       "      <td>Nissan</td>\n",
       "      <td>Qashqai</td>\n",
       "      <td>0</td>\n",
       "      <td>17/10/2023</td>\n",
       "      <td>Queluz</td>\n",
       "      <td>Definitiva</td>\n",
       "      <td>23/10/2023</td>\n",
       "      <td>0</td>\n",
       "      <td>...</td>\n",
       "      <td>Concluído</td>\n",
       "      <td>16/11/2023</td>\n",
       "      <td>2</td>\n",
       "      <td>16/11/2023</td>\n",
       "      <td>17/11/2023</td>\n",
       "      <td>0</td>\n",
       "      <td>0</td>\n",
       "      <td>2</td>\n",
       "      <td>1,94</td>\n",
       "      <td>4,09</td>\n",
       "    </tr>\n",
       "    <tr>\n",
       "      <th>4</th>\n",
       "      <td>2675</td>\n",
       "      <td>05/05/2023</td>\n",
       "      <td>BMW</td>\n",
       "      <td>X5</td>\n",
       "      <td>0</td>\n",
       "      <td>05/05/2023</td>\n",
       "      <td>Queluz</td>\n",
       "      <td>Definitiva</td>\n",
       "      <td>08/05/2023</td>\n",
       "      <td>0</td>\n",
       "      <td>...</td>\n",
       "      <td>Concluído</td>\n",
       "      <td>08/05/2023</td>\n",
       "      <td>5</td>\n",
       "      <td>08/05/2023</td>\n",
       "      <td>15/05/2023</td>\n",
       "      <td>1</td>\n",
       "      <td>6</td>\n",
       "      <td>12</td>\n",
       "      <td>18,59</td>\n",
       "      <td>14,26</td>\n",
       "    </tr>\n",
       "  </tbody>\n",
       "</table>\n",
       "<p>5 rows × 26 columns</p>\n",
       "</div>"
      ],
      "text/plain": [
       "     id data_criacao    marca   modelo    kms data_peritagem    oficina   \n",
       "0  3647   02/10/2023  Citroen       C4  57434     04/10/2023  Carnaxide  \\\n",
       "1  3536   18/09/2023  Peugeot      308      0     19/09/2023  Carnaxide   \n",
       "2   635   22/04/2022     Fiat     Tipo  65844     31/03/2022  Carnaxide   \n",
       "3  3766   17/10/2023   Nissan  Qashqai      0     17/10/2023     Queluz   \n",
       "4  2675   05/05/2023      BMW       X5      0     05/05/2023     Queluz   \n",
       "\n",
       "       estado autoriz_repar orc_pecas  ... ponto_situacao agendamento_repar   \n",
       "0  Definitiva    09/10/2023         0  ...      Concluído        26/10/2023  \\\n",
       "1  Definitiva    20/09/2023         0  ...      Concluído        07/11/2023   \n",
       "2  Definitiva    22/04/2022         0  ...      Concluído        27/04/2022   \n",
       "3  Definitiva    23/10/2023         0  ...      Concluído        16/11/2023   \n",
       "4  Definitiva    08/05/2023         0  ...      Concluído        08/05/2023   \n",
       "\n",
       "  tempo_repar data_real_inicio_repar data_real_fim_repar  dias_atraso_sem_fds   \n",
       "0           3             26/10/2023          31/10/2023                    1  \\\n",
       "1           4             07/11/2023          10/11/2023                    0   \n",
       "2           2             27/04/2022          29/04/2022                    1   \n",
       "3           2             16/11/2023          17/11/2023                    0   \n",
       "4           5             08/05/2023          15/05/2023                    1   \n",
       "\n",
       "  mao_obra_chapa mao_obra_pintura  mo_horas_orc_pintura mo_horas_orc_chapa  \n",
       "0            2,5                2                     0                  0  \n",
       "1              4                5                     0                  0  \n",
       "2              0                2                     0                  0  \n",
       "3              0                2                  1,94               4,09  \n",
       "4              6               12                 18,59              14,26  \n",
       "\n",
       "[5 rows x 26 columns]"
      ]
     },
     "execution_count": 1,
     "metadata": {},
     "output_type": "execute_result"
    }
   ],
   "source": [
    "# Importação de Pandas\n",
    "import pandas as pd\n",
    "\n",
    "# 'read' para ler o ficheiro,'delimiter' especifica ';' como delimitador e 'head' para exibir as informações.\n",
    "df = pd.read_csv('atlas2-v2.csv', delimiter=';')\n",
    "df.head()"
   ]
  },
  {
   "cell_type": "markdown",
   "id": "b3c02752-6a51-4ccc-9a1d-b0e795e51573",
   "metadata": {},
   "source": [
    "### • Drop de dados desnecessários\n",
    "#### Optou-se por fazer drop das colunas 'id' e 'estado' já que foram consideradas desnecessárias para esta análise."
   ]
  },
  {
   "cell_type": "code",
   "execution_count": 2,
   "id": "3b08c8a4-c724-496c-95f6-e87d431b9e88",
   "metadata": {},
   "outputs": [
    {
     "name": "stdout",
     "output_type": "stream",
     "text": [
      "    data_criacao    marca   modelo     kms data_peritagem    oficina   \n",
      "0     02/10/2023  Citroen       C4   57434     04/10/2023  Carnaxide  \\\n",
      "1     18/09/2023  Peugeot      308       0     19/09/2023  Carnaxide   \n",
      "2     22/04/2022     Fiat     Tipo   65844     31/03/2022  Carnaxide   \n",
      "3     17/10/2023   Nissan  Qashqai       0     17/10/2023     Queluz   \n",
      "4     05/05/2023      BMW       X5       0     05/05/2023     Queluz   \n",
      "..           ...      ...      ...     ...            ...        ...   \n",
      "993   10/11/2023  Peugeot     2008       0     14/11/2023  Carnaxide   \n",
      "994   13/11/2023  Peugeot     5008       0     14/11/2023  Carnaxide   \n",
      "995   25/10/2023     SEAT    Arona   41994     30/10/2023  Carnaxide   \n",
      "996   25/10/2023     Opel    Astra  144728     26/10/2023     Queluz   \n",
      "997   18/10/2023     Ford    Focus   61098     18/10/2023  Carnaxide   \n",
      "\n",
      "    autoriz_repar orc_pecas orc_mo_chapa orc_mo_pintura  ... ponto_situacao   \n",
      "0      09/10/2023         0            0              0  ...      Concluído  \\\n",
      "1      20/09/2023         0            0              0  ...      Concluído   \n",
      "2      22/04/2022         0            0              0  ...      Concluído   \n",
      "3      23/10/2023         0        159,6           75,6  ...      Concluído   \n",
      "4      08/05/2023         0       556,24         724,82  ...      Concluído   \n",
      "..            ...       ...          ...            ...  ...            ...   \n",
      "993    15/11/2023    466,09       146,43              0  ...      Concluído   \n",
      "994    28/11/2023    655,94       107,38              0  ...      Concluído   \n",
      "995    30/10/2023      69,2         9,76              0  ...      Concluído   \n",
      "996    27/10/2023    632,14        32,76              0  ...      Concluído   \n",
      "997    30/11/2023    356,22       141,55              0  ...      Concluído   \n",
      "\n",
      "    agendamento_repar tempo_repar  data_real_inicio_repar data_real_fim_repar   \n",
      "0          26/10/2023           3              26/10/2023          31/10/2023  \\\n",
      "1          07/11/2023           4              07/11/2023          10/11/2023   \n",
      "2          27/04/2022           2              27/04/2022          29/04/2022   \n",
      "3          16/11/2023           2              16/11/2023          17/11/2023   \n",
      "4          08/05/2023           5              08/05/2023          15/05/2023   \n",
      "..                ...         ...                     ...                 ...   \n",
      "993        12/12/2023           3              12/12/2023          12/12/2023   \n",
      "994        20/12/2023           3              20/12/2023          21/12/2023   \n",
      "995        17/11/2023           2              17/11/2023          17/11/2023   \n",
      "996        17/11/2023           1              17/11/2023          17/11/2023   \n",
      "997        21/12/2023           2              21/12/2023          22/12/2023   \n",
      "\n",
      "    dias_atraso_sem_fds  mao_obra_chapa mao_obra_pintura mo_horas_orc_pintura   \n",
      "0                     1             2,5                2                    0  \\\n",
      "1                     0               4                5                    0   \n",
      "2                     1               0                2                    0   \n",
      "3                     0               0                2                 1,94   \n",
      "4                     1               6               12                18,59   \n",
      "..                  ...             ...              ...                  ...   \n",
      "993                   0             1,5                0                    0   \n",
      "994                   0             1,5                0                    0   \n",
      "995                   0             0,2                0                    0   \n",
      "996                   0             0,5                0                    0   \n",
      "997                   0               1                0                    0   \n",
      "\n",
      "     mo_horas_orc_chapa  \n",
      "0                     0  \n",
      "1                     0  \n",
      "2                     0  \n",
      "3                  4,09  \n",
      "4                 14,26  \n",
      "..                  ...  \n",
      "993                3,75  \n",
      "994                2,75  \n",
      "995                0,25  \n",
      "996                0,84  \n",
      "997                3,63  \n",
      "\n",
      "[998 rows x 24 columns]\n"
     ]
    }
   ],
   "source": [
    "df = pd.read_csv('atlas2-v2.csv', delimiter=';')\n",
    "\n",
    "# 'drop' para remover as colunas, onde axis=1 indica remoção de colunas, não linhas.\n",
    "df = df.drop(['id', 'estado'], axis=1)\n",
    "\n",
    "print(df)"
   ]
  },
  {
   "cell_type": "markdown",
   "id": "be065506-938a-4ab3-b47c-4c79abe19f0f",
   "metadata": {},
   "source": [
    "### • Drop de linhas com informações duvidosas\n",
    "\n",
    "#### É possível notar que nas três primeiras linhas do conjunto de dados não existem informações nos campos relacionados a orçamentos e mão de obra, o que torna essas linhas desnecessárias. Pode-se supor que esses dados talvez não tenham sido inseridos no sistema pelo colaborador, uma vez que o serviço foi considerado concluído. Um dos indicativos disso é a presença de mão de obra de chapa ('mao_obra_chapa'), mas a ausência de orçamento de chapa ('orc_mao_obra_chapa').\n",
    "\n",
    "**Em outras palavras, esses dados podem ser inconsistentes, e por se tratar apenas de três veículos, optou-se por fazer drop das três primeiras linhas do ficheiro.**"
   ]
  },
  {
   "cell_type": "code",
   "execution_count": 3,
   "id": "d788ace6-17ac-4d21-a349-36ee0722d516",
   "metadata": {},
   "outputs": [],
   "source": [
    "# Remover as linhas desejadas (segunda, terceira e quarta linhas)\n",
    "df = df.drop(df.index[[1, 2, 3]])"
   ]
  },
  {
   "cell_type": "markdown",
   "id": "04ff81bb-803e-4c66-84e1-09f83bf33ab2",
   "metadata": {},
   "source": [
    "### • Qual a quantidade de carros atendidos por ano?\n",
    "\n",
    "#### Os dados abaixo mostram que de 2022 para 2023 os atendimentos cresceram de maneira significativa, chegando a um aumento de 1144.59%, saindo de 74 para 921 atendimentos. Será que isso aconteceu devido o desenvolvimento do software para gestão de serviço? Será que em 2023 o número de acidentes cresceu e, consoante a isso, o aumento de veículos assegurados foram para conserto?\n",
    "\n",
    "**São perguntas que a gestão com certeza conseguirá responder. Cabe à ela continuar a explorar esse benefício e se planejar para continuar a entregar serviços de rapidez e qualidade**"
   ]
  },
  {
   "cell_type": "code",
   "execution_count": 4,
   "id": "186f57a7-50e3-47ec-b992-41f4c7c978bd",
   "metadata": {},
   "outputs": [
    {
     "name": "stdout",
     "output_type": "stream",
     "text": [
      "Quantidade de carros atendidos por ano:\n",
      "Ano\n",
      "2022     74\n",
      "2023    921\n",
      "dtype: int64\n",
      "A primeira data de atendimento do ano de 2022 foi: 2022-02-23 00:00:00\n",
      "A primeira data de atendimento do ano de 2023 foi: 2023-01-05 00:00:00\n",
      "A percentagem de crescimento dos atendimentos de 2022 para 2023 foi de: 1144.59%\n"
     ]
    }
   ],
   "source": [
    "# Convertendo a coluna 'data_criacao' para o formato de data\n",
    "df['data_criacao'] = pd.to_datetime(df['data_criacao'], format='%d/%m/%Y')\n",
    "\n",
    "# Criando uma nova coluna 'Ano'\n",
    "df['Ano'] = df['data_criacao'].dt.year\n",
    "\n",
    "# Obtendo a quantidade de carros atendidos por ano\n",
    "quantidade_carros_por_ano = df.groupby('Ano').size()\n",
    "\n",
    "print(\"Quantidade de carros atendidos por ano:\")\n",
    "print(quantidade_carros_por_ano)\n",
    "\n",
    "# Convertendo a coluna 'data_criacao' para o formato de data\n",
    "df['data_criacao'] = pd.to_datetime(df['data_criacao'], format='%d/%m/%Y')\n",
    "\n",
    "# Encontrando a primeira data do ano de 2022\n",
    "primeira_data_2022 = df[df['data_criacao'].dt.year == 2022]['data_criacao'].min()\n",
    "\n",
    "print(\"A primeira data de atendimento do ano de 2022 foi:\", primeira_data_2022)\n",
    "\n",
    "# Encontrando a primeira data do ano de 2022\n",
    "primeira_data_2023 = df[df['data_criacao'].dt.year == 2023]['data_criacao'].min()\n",
    "\n",
    "print(\"A primeira data de atendimento do ano de 2023 foi:\", primeira_data_2023)\n",
    "\n",
    "# Calcular a quantidade de carros atendidos em 2022 e 2023\n",
    "quantidade_carros_2022 = quantidade_carros_por_ano.loc[2022]\n",
    "quantidade_carros_2023 = quantidade_carros_por_ano.loc[2023]\n",
    "\n",
    "# Calcular a porcentagem de crescimento\n",
    "percentual_crescimento = ((quantidade_carros_2023 - quantidade_carros_2022) / quantidade_carros_2022) * 100\n",
    "\n",
    "print(f\"A percentagem de crescimento dos atendimentos de 2022 para 2023 foi de: {percentual_crescimento:.2f}%\")"
   ]
  },
  {
   "cell_type": "markdown",
   "id": "ccad5dca-6b26-4b66-b40b-33e16c1d3d13",
   "metadata": {},
   "source": [
    "### • Qual é a média de dias em que os carros esperam peritagem?\n",
    "\n",
    "#### A média de dias que os carros ficam a espera de peritagem é um dado importante, visto que o espaço da oficina estará sendo ocupado pelos carros que estão imobilizados, o que pode atrapalhar a logística da mesma. Vale ressaltar que as empresas de seguros têm a obrigação de disponibilizar um veículo de substituição nos casos em que aquelas assumam, em nome do seu segurado, a responsabilidade exclusiva pelo sinistro e se verifique a imobilização do veículo sinistrado. Em suma: quanto mais os carros ficam a espera de peritagem, a oficina perde espaço, as seguradoras perdem dinheiro e com certeza os donos dos veículos ficam insatisfeitos. \n",
    "\n",
    "**A situação em questão atrapalha a logística da oficina, mas é de responsabilidade da seguradora. No entanto, existe algo que a oficina possa fazer?**"
   ]
  },
  {
   "cell_type": "code",
   "execution_count": 5,
   "id": "df7445c9-eebf-4411-a48f-4cf1e9386a54",
   "metadata": {},
   "outputs": [
    {
     "name": "stdout",
     "output_type": "stream",
     "text": [
      "A média de dias em que os carros esperam por peritagem é: 4.39 dias\n"
     ]
    }
   ],
   "source": [
    "# Converter as colunas de datas para o formato datetime\n",
    "df['data_criacao'] = pd.to_datetime(df['data_criacao'], format='%d/%m/%Y', errors='coerce')\n",
    "df['data_peritagem'] = pd.to_datetime(df['data_peritagem'], format='%d/%m/%Y', errors='coerce')\n",
    "\n",
    "# Calcular a diferença em dias entre as duas colunas\n",
    "df['diferenca_dias'] = (df['data_peritagem'] - df['data_criacao']).dt.days\n",
    "\n",
    "# Calcular a média de dias\n",
    "media_dias = df['diferenca_dias'].mean()\n",
    "\n",
    "print(f'A média de dias em que os carros esperam por peritagem é: {media_dias:.2f} dias')"
   ]
  },
  {
   "cell_type": "markdown",
   "id": "957adc47-22f8-45f6-9abf-bde7270ffa57",
   "metadata": {},
   "source": [
    "### • Qual a média de dias em que os carros imobilizados entram na oficina e esperam peritagem?\n",
    "### • Quantos veículos estão e quantos não estão imobilizados?\n",
    "\n",
    "#### Pode-se observar também a média de dias em que os carros imobilizados ficam a espera de peritagem, visto que algumas seguradoras podem oferecer serviços adicionais, como veículo de substituição em situações específicas, mas isso dependerá das cláusulas e condições específicas do contrato.\n",
    "\n",
    "**Mais uma vez a situação em questão atrapalha a logística da oficina, mas é de responsabilidade da seguradora. No entanto, existe algo que a oficina possa fazer?**"
   ]
  },
  {
   "cell_type": "code",
   "execution_count": 5,
   "id": "840a7a11-00c4-4ac6-a511-5162f3a37e17",
   "metadata": {},
   "outputs": [
    {
     "data": {
      "image/png": "[encoded data removed]",
      "text/plain": [
       "<Figure size 800x500 with 1 Axes>"
      ]
     },
     "metadata": {},
     "output_type": "display_data"
    }
   ],
   "source": [
    "import matplotlib.pyplot as plt\n",
    "\n",
    "# Usar value_counts para contar os valores únicos na coluna 'imobilizado'\n",
    "contagem_imobilizado = df['imobilizado'].value_counts()\n",
    "\n",
    "# Quantidade de carros imobilizados\n",
    "imobilizados_sim = contagem_imobilizado.get('Sim', 0)\n",
    "\n",
    "# Quantidade de carros não imobilizados\n",
    "imobilizados_nao = contagem_imobilizado.get('Não', 0)\n",
    "\n",
    "# Visualização\n",
    "# Criar um gráfico de barras\n",
    "plt.figure(figsize=(8, 5))\n",
    "contagem_imobilizado.plot(kind='bar', color=['skyblue', 'salmon'])\n",
    "\n",
    "# Adicionar rótulos e título\n",
    "plt.xlabel('Imobilizados')\n",
    "plt.ylabel('Quantidade')\n",
    "plt.title('Quantidade de Veículos Imobilizados e Não Imobilizados')\n",
    "\n",
    "# Adicionar anotações com a quantidade de veículos em cada barra\n",
    "for i, value in enumerate(contagem_imobilizado):\n",
    "    plt.text(i, value + 5, str(value), ha='center', va='bottom')\n",
    "\n",
    "# Exibir o gráfico\n",
    "plt.show()"
   ]
  },
  {
   "cell_type": "markdown",
   "id": "1eaf9125-fd86-4ef3-94d2-3163501d7310",
   "metadata": {},
   "source": [
    "### • Quanto tempo os veículos aguardam por reparação após o agendamento de reparação?\n",
    "\n",
    "#### Outro ponto relevante para esta análise pode ser o tempo que os veículos aguardam por reparação após serem agendados para reparação. É possível verificar se as datas são iguais, permitindo determinar quantos veículos iniciaram a reparação no mesmo dia em que foram autorizados e quantos não iniciaram. Pode-se dizer que não custaria nada ter no sistema uma coluna chamada 'Condições para começar a reparação imediatamente', que contenha 'Sim' ou 'Não' nos campos para compreender de maneira mais direta o que se passa.\n",
    "\n",
    "**Nesse caso existem falhas por parte da oficina, mesmo que com apenas 16 veículos. Algumas delas podem ser gestão deficiente, atraso não programado de algum fornecedor/fabricante de materiais ou peças, entre outras situações que requerem análise para otimizar cada vez mais a eficiência na entrega dos serviços.**"
   ]
  },
  {
   "cell_type": "code",
   "execution_count": 7,
   "id": "4e9b2369-3ddf-4aee-a01d-881506153353",
   "metadata": {},
   "outputs": [
    {
     "data": {
      "image/png": "[encoded data removed]",
      "text/plain": [
       "<Figure size 400x400 with 1 Axes>"
      ]
     },
     "metadata": {},
     "output_type": "display_data"
    }
   ],
   "source": [
    "# Converter as colunas de datas para o formato datetime\n",
    "df['agendamento_repar'] = pd.to_datetime(df['agendamento_repar'], format='%d/%m/%Y', errors='coerce')\n",
    "df['data_real_inicio_repar'] = pd.to_datetime(df['data_real_inicio_repar'], format='%d/%m/%Y', errors='coerce')\n",
    "\n",
    "# Calcular o tempo de espera após o agendamento\n",
    "df['tempo_espera_apos_agendamento'] = (df['data_real_inicio_repar'] - df['agendamento_repar']).dt.days\n",
    "\n",
    "# Contar quantos veículos começaram no mesmo dia e quantos não\n",
    "total_mesmo_dia = df[df['tempo_espera_apos_agendamento'] == 0].shape[0]\n",
    "total_nao_mesmo_dia = df[df['tempo_espera_apos_agendamento'] > 0].shape[0]\n",
    "\n",
    "# Criar uma lista com os valores\n",
    "valores = [total_mesmo_dia, total_nao_mesmo_dia]\n",
    "\n",
    "# Criar rótulos para as fatias\n",
    "rotulos = ['Mesmo Dia', 'Depois']\n",
    "\n",
    "# Cores para as fatias\n",
    "cores = ['#B0C4DE', '#98FB98']\n",
    "\n",
    "# Criar um gráfico de pizza\n",
    "plt.figure(figsize=(4, 4))\n",
    "plt.pie(valores, labels=rotulos, colors=cores, autopct='%1.1f%%', startangle=90)\n",
    "\n",
    "# Adicionar um título\n",
    "plt.title('Percentagem do Início de Reparação dos Veículos Após Agendamento')\n",
    "\n",
    "# Exibir o gráfico\n",
    "plt.show()"
   ]
  },
  {
   "cell_type": "markdown",
   "id": "f7080f79-5187-48fd-bbc7-91f1948f083b",
   "metadata": {},
   "source": [
    "### • E quanto aos veículos que não começam a reparação no dia agendado?\n",
    "\n",
    "#### Já foi visto que um total de 16 veículos não começaram a reparação no dia agendado, então essa variável precisa ser analisada pela gestão da oficina. Será que conseguiram recuperar o tempo para que esses 16 veículos fossem entregues no dia agendado? E quanto aqueles 956 que começaram a ser reparados no dia agendado, será que foram entregues sem atraso? Com a análise a seguir percebe-se 93 veículos foram entregues com atraso.\n",
    "\n",
    "**Apesar da quantidade de veículos ser igual a 93, a análise mostra que não existe frequência de dias de atraso e que estão concentrados em torno do valor mais baixo, o que não indica padrões e nem consistência no tempo de atraso.**"
   ]
  },
  {
   "cell_type": "code",
   "execution_count": 8,
   "id": "10796617-c21a-4ef6-9b3a-fa4d3e75acc2",
   "metadata": {},
   "outputs": [
    {
     "name": "stdout",
     "output_type": "stream",
     "text": [
      "Total de veículos que foram entregues com dias de atraso: 94\n"
     ]
    },
    {
     "data": {
      "image/png": "[encoded data removed]",
      "text/plain": [
       "<Figure size 800x600 with 1 Axes>"
      ]
     },
     "metadata": {},
     "output_type": "display_data"
    }
   ],
   "source": [
    "# Filtrar apenas os veículos com dias de atraso\n",
    "dias_de_atraso = df[df['dias_atraso_sem_fds'] > 0]\n",
    "\n",
    "# Contar o número de veículos que foram entregues com dias de atraso\n",
    "dias_de_atraso = dias_de_atraso.shape[0]\n",
    "\n",
    "print(f'Total de veículos que foram entregues com dias de atraso: {dias_de_atraso}')\n",
    "\n",
    "#Visualização\n",
    "import matplotlib.pyplot as plt\n",
    "\n",
    "# Filtrar apenas os veículos com dias de atraso\n",
    "veiculos_com_atraso = df[df['dias_atraso_sem_fds'] > 0]['dias_atraso_sem_fds']\n",
    "\n",
    "# Contar a frequência de cada número específico de dias de atraso\n",
    "contagem_dias_atraso = veiculos_com_atraso.value_counts().sort_index()\n",
    "\n",
    "# Gráfico de Barras\n",
    "plt.figure(figsize=(8, 6))\n",
    "ax = contagem_dias_atraso.plot(kind='bar', color='#FF9999', width=0.8)\n",
    "\n",
    "# Adicionar rótulos e título\n",
    "plt.title('Contagem de Veículos por Número de Dias de Atraso')\n",
    "plt.xlabel('Dias de Atraso')\n",
    "plt.ylabel('Número de Veículos')\n",
    "plt.xticks(rotation=45, ha='right')\n",
    "\n",
    "# Adicionar a quantidade exata de dias de atraso em cima de cada barra\n",
    "for i, v in enumerate(contagem_dias_atraso):\n",
    "    ax.text(i, v + 1, str(v), ha='center', va='bottom')\n",
    "\n",
    "# Remover o eixo Y\n",
    "plt.yticks([])\n",
    "\n",
    "# Exibir a visualização\n",
    "plt.show()"
   ]
  },
  {
   "cell_type": "markdown",
   "id": "e324b83f-7abc-463d-b7cd-7671539a9f29",
   "metadata": {},
   "source": [
    "### • As datas relacionadas aos dias de atraso podem estar influenciado no atraso?\n",
    "\n",
    "#### Como visto abaixo, algumas das datas dos dias de atraso podem estar relacionadas a época de férias. Esse dado realmente está de acordo com a realidade da oficina ou foi coincidência?"
   ]
  },
  {
   "cell_type": "code",
   "execution_count": 9,
   "id": "b19f21b3-611d-452f-bf7d-eee4724bfe59",
   "metadata": {},
   "outputs": [
    {
     "name": "stdout",
     "output_type": "stream",
     "text": [
      "Datas em que os veículos ficaram em atraso:\n",
      "    agendamento_repar  dias_atraso_sem_fds datas_atraso\n",
      "0          2023-10-26                    1   2023-10-27\n",
      "4          2023-05-08                    1   2023-05-09\n",
      "19         2023-09-21                    2   2023-09-23\n",
      "20         2023-09-21                    1   2023-09-22\n",
      "29         2023-05-18                    1   2023-05-19\n",
      "..                ...                  ...          ...\n",
      "569        2023-06-19                    1   2023-06-20\n",
      "570        2023-05-31                    3   2023-06-03\n",
      "571        2022-07-15                    8   2022-07-23\n",
      "572        2022-07-15                    7   2022-07-22\n",
      "573        2022-07-15                    7   2022-07-22\n",
      "\n",
      "[94 rows x 3 columns]\n"
     ]
    }
   ],
   "source": [
    "# Filtrar apenas os veículos em atraso\n",
    "veiculos_em_atraso = df[df['dias_atraso_sem_fds'] > 0].copy()\n",
    "\n",
    "# Converter a coluna 'agendamento_repar' para datetime\n",
    "veiculos_em_atraso['agendamento_repar'] = pd.to_datetime(veiculos_em_atraso['agendamento_repar'], dayfirst=True)\n",
    "\n",
    "# Criar uma nova coluna com as datas específicas de atraso para cada veículo\n",
    "veiculos_em_atraso['datas_atraso'] = veiculos_em_atraso['agendamento_repar'] + pd.to_timedelta(veiculos_em_atraso['dias_atraso_sem_fds'], unit='D')\n",
    "\n",
    "# Exibir as datas específicas de atraso para cada veículo\n",
    "print(\"Datas em que os veículos ficaram em atraso:\")\n",
    "print(veiculos_em_atraso[['agendamento_repar', 'dias_atraso_sem_fds', 'datas_atraso']])"
   ]
  },
  {
   "cell_type": "markdown",
   "id": "20b7578f-6435-4054-9c92-6a29c5adbe1d",
   "metadata": {},
   "source": [
    "### • Quanto tempo os veículos aguardam pelo agendamento de reparação após terem tido autorização para serem reparados?\n",
    "\n",
    "#### Neste ponto é importante entender por qual motivo o serviço não foi agendado, já que foi autorizado a ser reparado. Preparação dos materiais e/ou peças necessárias? Falta de mecânicos? Feriados? Muitos veículos para serem reparados na mesma semana? Desorganização da gestão? Tendo atenção a este ponto foi feito o cálculo da média de dias em que os veículos demoram a ser agendados para reparação. A priori o resultado pode parecer estranho, no entanto, se formos analisar as datas vemos que não, já que temos os seguintes exemplos de datas: 09/10/2023 (autorização) 20/10/2023(agendamento) e 18/04/2023 (autorização) 09/05/2023(agendamento).\n",
    "\n",
    "**Quanto menor for esse tempo, geralmente, melhor será a eficiência e a rapidez no atendimento aos clientes ou na execução dos serviços. No entanto, o valor específico considerado \"bom\" pode depender do contexto da indústria ou das expectativas do cliente.**"
   ]
  },
  {
   "cell_type": "code",
   "execution_count": 14,
   "id": "6b9fca10-d691-45f4-8bc5-c0bb39617d35",
   "metadata": {},
   "outputs": [
    {
     "name": "stdout",
     "output_type": "stream",
     "text": [
      "Média de dias entre agendamento e autorização de reparo: 23.547738693467338 dias\n"
     ]
    }
   ],
   "source": [
    "# Convertendo as colunas para o tipo 'Timestamp'\n",
    "df['agendamento_repar'] = pd.to_datetime(df['agendamento_repar'])\n",
    "df['autoriz_repar'] = pd.to_datetime(df['autoriz_repar'], format='%d/%m/%Y')\n",
    "\n",
    "# Calcular a diferença em dias entre as duas colunas\n",
    "df['diferenca_dias'] = (df['agendamento_repar'] - df['autoriz_repar']).dt.days\n",
    "\n",
    "# Calcular a média de dias\n",
    "media_dias = df['diferenca_dias'].mean()\n",
    "\n",
    "# Exibindo a média de dias\n",
    "print(f'Média de dias entre agendamento e autorização de reparo: {media_dias} dias')"
   ]
  },
  {
   "cell_type": "markdown",
   "id": "bcf6c016-b899-465a-8c05-61dc00cb1a37",
   "metadata": {},
   "source": [
    "### • Qual é a soma dos valores dos orçamentos?\n",
    "\n",
    "#### Essa informação pode guiar as decisões estratégicas e o planejamento orçamentário, e também proporcionar insights sobre o desempenho do negócio, permitindo a avaliação de eficiência operacional.\n",
    "\n",
    "**Os dados a seguir mostrarão que o primeiro maior orçamento é o de peças e o segundo é de mão de obra de chapa**"
   ]
  },
  {
   "cell_type": "code",
   "execution_count": 15,
   "id": "5cd1889e-dd4f-479f-b1b3-4bebd0238cb5",
   "metadata": {},
   "outputs": [
    {
     "name": "stdout",
     "output_type": "stream",
     "text": [
      "A soma total para 'orc_pecas' é: 4 167,00 €\n",
      "A soma total para 'orc_mo_chapa' é: 4 668,00 €\n",
      "A soma total para 'orc_mo_pintura' é: 2 629,00 €\n",
      "A soma total para 'orc_mat_pintura' é: 246,00 €\n",
      "A soma total para 'orc_mat_comp' é: 99,00 €\n"
     ]
    }
   ],
   "source": [
    "import locale\n",
    "\n",
    "# Configurar a formatação para moeda euro\n",
    "locale.setlocale(locale.LC_MONETARY, 'pt_PT.UTF-8')  # Ajuste conforme sua preferência\n",
    "\n",
    "# Lista das colunas desejadas\n",
    "colunas_desejadas = ['orc_pecas', 'orc_mo_chapa', 'orc_mo_pintura', 'orc_mat_pintura', 'orc_mat_comp']\n",
    "\n",
    "# Calcular e exibir a soma para cada coluna\n",
    "for coluna in colunas_desejadas:\n",
    "    # Converter a coluna para números (float) se necessário\n",
    "    df[coluna] = pd.to_numeric(df[coluna], errors='coerce')\n",
    "    \n",
    "    # Calcular a soma total\n",
    "    soma_total = df[coluna].sum()\n",
    "    \n",
    "    # Verificar se a soma total é um número antes de formatar como moeda\n",
    "    if not pd.isna(soma_total):\n",
    "        valor_formatado = locale.currency(soma_total, grouping=True)\n",
    "        print(f\"A soma total para '{coluna}' é: {valor_formatado}\")\n",
    "    else:\n",
    "        print(f\"A coluna '{coluna}' contém valores não numéricos.\")"
   ]
  },
  {
   "cell_type": "markdown",
   "id": "7de83284-8df9-4f39-8cb7-88535c33e254",
   "metadata": {},
   "source": [
    "### • Já que a mão de obra de chapa foi um dado importante na análise acima, quais as estatísticas para a mão de obra de chapa?\n",
    "\n",
    "#### De acordo com os resultados abaixo vemos que a maior quantidade de horas gastas com chapa foi de 34h e a menor de 0.1, ou seja, uma fração de uma hora, que é equivalente a 6 minutos. Já a média foi de 4.223 horas. \n",
    "\n",
    "**Se esses tempos são adequados vai depender do projeto da oficina e do que é acordado entre gestão e colaboradores.**"
   ]
  },
  {
   "cell_type": "code",
   "execution_count": 16,
   "id": "74af1af4-4846-4d80-8d9c-cb7135046122",
   "metadata": {},
   "outputs": [
    {
     "name": "stdout",
     "output_type": "stream",
     "text": [
      "O menor tempo gasto com chapa é: 0.1, ou seja, uma fração de uma hora, que é equivalente a 6 minutos.\n",
      "O maior tempo gasto com chapa é: 34.0 hora(s).\n",
      "A média do tempo gasto com chapa é: 4.223266331658291 hora(s).\n"
     ]
    }
   ],
   "source": [
    "# Tratar valores mistos com vírgula e sem vírgula\n",
    "df['mao_obra_chapa'] = df['mao_obra_chapa'].apply(lambda x: float(x.replace(',', '.')) if isinstance(x, str) and ',' in x else float(x))\n",
    "\n",
    "# Filtrar os valores diferentes de zero para chegar ao valor mínimo adequado\n",
    "valores_sem_zero = df['mao_obra_chapa'][df['mao_obra_chapa'] != 0]\n",
    "\n",
    "# Encontrar o valor mínimo excluindo os zeros\n",
    "minimo_mao_obra_chapa_sem_zero = valores_sem_zero.min()\n",
    "\n",
    "# Encontrar o maior valor\n",
    "maior_valor_mao_obra_chapa = df['mao_obra_chapa'].max()\n",
    "\n",
    "# Encontrar a média\n",
    "media_mao_obra_chapa = df['mao_obra_chapa'].mean()\n",
    "\n",
    "# Exibir os resultados corrigidos\n",
    "print(f\"O menor tempo gasto com chapa é: {minimo_mao_obra_chapa_sem_zero}, ou seja, uma fração de uma hora, que é equivalente a 6 minutos.\")\n",
    "print(f\"O maior tempo gasto com chapa é: {maior_valor_mao_obra_chapa} hora(s).\")\n",
    "print(f\"A média do tempo gasto com chapa é: {media_mao_obra_chapa} hora(s).\")"
   ]
  },
  {
   "cell_type": "markdown",
   "id": "65b73181-a16c-49d0-b087-868979ebfb6a",
   "metadata": {},
   "source": [
    "### • Qual é a média de dias de reparação por ano?\n",
    "\n",
    "####  Essa análise fornece insights sobre a performance ao longo do tempo, permitindo à oficina entender se houve melhorias ou declínios na eficiência na resolução de reparos.\n",
    "\n",
    "**Com o resultado a gestão poderá ter uma noção se as metas foram alcançadas ou não.**"
   ]
  },
  {
   "cell_type": "code",
   "execution_count": 17,
   "id": "2d6370ee-64db-4452-b30e-b7294f8a8436",
   "metadata": {},
   "outputs": [
    {
     "name": "stdout",
     "output_type": "stream",
     "text": [
      "Tempo médio de reparação por ano:\n",
      "ano\n",
      "2022   3 days 12:00:00\n",
      "2023   6 days 00:00:00\n",
      "Name: tempo_reparar, dtype: timedelta64[ns]\n"
     ]
    },
    {
     "data": {
      "image/png": "[encoded data removed]",
      "text/plain": [
       "<Figure size 640x480 with 1 Axes>"
      ]
     },
     "metadata": {},
     "output_type": "display_data"
    }
   ],
   "source": [
    "# Crie um DataFrame de exemplo\n",
    "data = {'tempo_reparar': ['2 days', '3 days', '5 days', '4 days', '6 days'],\n",
    "        'data_criacao': ['2022-01-01', '2022-01-02', '2022-02-01', '2022-02-15', '2023-01-01']}\n",
    "df = pd.DataFrame(data)\n",
    "\n",
    "# Converta as colunas para datetime\n",
    "df['tempo_reparar'] = pd.to_timedelta(df['tempo_reparar'], errors='coerce')\n",
    "df['data_criacao'] = pd.to_datetime(df['data_criacao'], errors='coerce')\n",
    "\n",
    "# Extraia o ano da coluna 'data_criacao'\n",
    "df['ano'] = df['data_criacao'].dt.year\n",
    "\n",
    "# Agrupe o DataFrame pelos anos e calcule o tempo médio de reparação para cada ano\n",
    "resultados = df.groupby('ano')['tempo_reparar'].mean()\n",
    "\n",
    "# Exiba os resultados\n",
    "print(\"Tempo médio de reparação por ano:\")\n",
    "print(resultados)\n",
    "\n",
    "# Crie um gráfico de barras para visualizar os resultados\n",
    "resultados.plot(kind='bar', xlabel='Ano', ylabel='Tempo Médio de Reparação (dias)',\n",
    "                title='Tempo Médio de Reparação por Ano')\n",
    "plt.show()"
   ]
  },
  {
   "cell_type": "markdown",
   "id": "1bd1e121-b194-4cea-a6dc-ae24657a9ed4",
   "metadata": {},
   "source": [
    "### • Quais são as marcas que chegam para conserto com maior frequência?\n",
    "\n",
    "#### Ao analisar o top 3 das marcas com maior frequência é possível identificar a preferência dos consumidores, seja devido condições demográficas específicas da região de Lisboa ou esforços das marcas em se destacar, bem como a reputação de cada marca em termos de inovação e tecnologia. Talvez nos dias atuais a segmentação de mercado seja um destaque em critérios como preço, estilo, desempenho, etc. No entanto, até a nível nacional as marcas em questão são preferência de mercado.\n",
    "\n",
    "**Sendo assim, pode ser importante refletir os motivos que fizeram a maioria dos clientes da oficina escolherem Peugeot, Renault e BMW como marca. É indipensável olhar para essas marcas antes de, por exemplo, encomedar peças e escolher fornecedores.**"
   ]
  },
  {
   "cell_type": "code",
   "execution_count": 6,
   "id": "0bf899e9-ec5e-4778-9017-e300a52e6b2c",
   "metadata": {},
   "outputs": [
    {
     "name": "stdout",
     "output_type": "stream",
     "text": [
      "As três marcas que mais se repetem são:\n",
      "marca\n",
      "Peugeot    183\n",
      "Renault    151\n",
      "BMW        108\n",
      "Name: count, dtype: int64\n"
     ]
    },
    {
     "data": {
      "image/png": "[encoded data removed]",
      "text/plain": [
       "<Figure size 600x200 with 1 Axes>"
      ]
     },
     "metadata": {},
     "output_type": "display_data"
    }
   ],
   "source": [
    "# Calcular a contagem de cada marca\n",
    "contagem_marcas = df['marca'].value_counts()\n",
    "\n",
    "# Obter as três marcas com as maiores contagens\n",
    "top_3_marcas = contagem_marcas.nlargest(3)\n",
    "\n",
    "# Exibir o top 3 de marcas que mais se repetem\n",
    "print(\"As três marcas que mais se repetem são:\")\n",
    "print(top_3_marcas)\n",
    "\n",
    "# Inverter a ordem do DataFrame\n",
    "top_3_marcas = top_3_marcas[::-1]\n",
    "\n",
    "# Visualização do top3 com Matplotlib\n",
    "# Escolher a paleta de cores Set2\n",
    "cores = plt.cm.Set2(range(len(top_3_marcas)))\n",
    "\n",
    "# Criar um gráfico de barras horizontal\n",
    "plt.figure(figsize=(6, 2))\n",
    "plt.barh(top_3_marcas.index, top_3_marcas.values, color=cores)\n",
    "\n",
    "# Adicionar rótulos e título\n",
    "plt.xlabel(\"Contagem\")\n",
    "plt.ylabel(\"Marca\")\n",
    "plt.title(\"Top 3 Marcas Mais Comuns\")\n",
    "\n",
    "# Exibir o gráfico\n",
    "plt.show()"
   ]
  },
  {
   "cell_type": "markdown",
   "id": "d356cdc6-7301-4864-bc7e-4dc63d00763b",
   "metadata": {},
   "source": [
    "### • Quais são as marcas que menos dão entrada na oficina para conserto?\n",
    "\n",
    "#### A análise a seguir apresenta 10 marcas que menos dão chegam na oficina. Os motivos podem ser justamente o oposto do visto acima em relação as marcas mais comuns. Talvez as marcas sejam caras, de difícil manutenção e reposição de peças, não tenham se atualizado ou até não tenham atigindo os consumidores portugueses com marketing adequado.\n",
    "\n",
    "**Os motivos de marcas como Alfa Romeo, Honda e Tesla terem tido apenas um cliente na oficina devem ser analisados**"
   ]
  },
  {
   "cell_type": "code",
   "execution_count": 26,
   "id": "cb6df3e5-ad4a-4a86-977e-059d6850e27f",
   "metadata": {},
   "outputs": [
    {
     "name": "stdout",
     "output_type": "stream",
     "text": [
      "As três marcas que menos se repetem são:\n",
      "marca\n",
      "Land Rover    1\n",
      "Tesla         1\n",
      "Alfa Romeo    1\n",
      "smart         1\n",
      "Honda         1\n",
      "KIA           1\n",
      "Porsche       1\n",
      "Mazda         1\n",
      "Mitsubishi    2\n",
      "Jeep          2\n",
      "Name: count, dtype: int64\n"
     ]
    },
    {
     "data": {
      "image/png": "[encoded data removed]",
      "text/plain": [
       "<Figure size 800x400 with 1 Axes>"
      ]
     },
     "metadata": {},
     "output_type": "display_data"
    }
   ],
   "source": [
    "# Calcular a contagem de cada marca\n",
    "contagem_marcas = df['marca'].value_counts()\n",
    "\n",
    "# Obter as três marcas com as menores contagens\n",
    "top_10_marcas_menos_comuns = contagem_marcas.nsmallest(10)\n",
    "\n",
    "# Exibir o top 10 de marcas menos comuns\n",
    "print(\"As três marcas que menos se repetem são:\")\n",
    "print(top_10_marcas_menos_comuns)\n",
    "\n",
    "# Visualização do top 10 com matplotilib\n",
    "# Escolher a paleta de cores Set2\n",
    "cores = plt.cm.Set2(range(len(top_10_marcas_menos_comuns)))\n",
    "\n",
    "# Criar um gráfico de barras horizontal\n",
    "plt.figure(figsize=(8, 4))\n",
    "plt.barh(top_10_marcas_menos_comuns.index, top_10_marcas_menos_comuns.values, color=cores)\n",
    "\n",
    "# Adicionar rótulos e título\n",
    "plt.xlabel(\"Contagem\")\n",
    "plt.ylabel(\"Marca\")\n",
    "plt.title(\"Top 10 Marcas Menos Comuns\")\n",
    "\n",
    "# Exibir o gráfico\n",
    "plt.show()"
   ]
  }
 ],
 "metadata": {
  "kernelspec": {
   "display_name": "Python 3 (ipykernel)",
   "language": "python",
   "name": "python3"
  },
  "language_info": {
   "codemirror_mode": {
    "name": "ipython",
    "version": 3
   },
   "file_extension": ".py",
   "mimetype": "text/x-python",
   "name": "python",
   "nbconvert_exporter": "python",
   "pygments_lexer": "ipython3",
   "version": "3.11.0"
  }
 },
 "nbformat": 4,
 "nbformat_minor": 5
}
